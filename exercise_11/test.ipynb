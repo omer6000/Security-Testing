{
 "cells": [
  {
   "cell_type": "code",
   "execution_count": 5,
   "metadata": {},
   "outputs": [],
   "source": [
    "import ast\n",
    "import astpretty"
   ]
  },
  {
   "cell_type": "code",
   "execution_count": 6,
   "metadata": {},
   "outputs": [
    {
     "name": "stdout",
     "output_type": "stream",
     "text": [
      "Module(\n",
      "    body=[\n",
      "        FunctionDef(\n",
      "            lineno=2,\n",
      "            col_offset=0,\n",
      "            end_lineno=6,\n",
      "            end_col_offset=13,\n",
      "            name='main',\n",
      "            args=arguments(posonlyargs=[], args=[], vararg=None, kwonlyargs=[], kw_defaults=[], kwarg=None, defaults=[]),\n",
      "            body=[\n",
      "                Assign(\n",
      "                    lineno=3,\n",
      "                    col_offset=4,\n",
      "                    end_lineno=3,\n",
      "                    end_col_offset=8,\n",
      "                    targets=[Name(lineno=3, col_offset=4, end_lineno=3, end_col_offset=5, id='a', ctx=Store())],\n",
      "                    value=Constant(lineno=3, col_offset=7, end_lineno=3, end_col_offset=8, value=3, kind=None),\n",
      "                    type_comment=None,\n",
      "                ),\n",
      "                Assign(\n",
      "                    lineno=4,\n",
      "                    col_offset=4,\n",
      "                    end_lineno=4,\n",
      "                    end_col_offset=8,\n",
      "                    targets=[Name(lineno=4, col_offset=4, end_lineno=4, end_col_offset=5, id='b', ctx=Store())],\n",
      "                    value=Constant(lineno=4, col_offset=7, end_lineno=4, end_col_offset=8, value=2, kind=None),\n",
      "                    type_comment=None,\n",
      "                ),\n",
      "                While(\n",
      "                    lineno=5,\n",
      "                    col_offset=4,\n",
      "                    end_lineno=6,\n",
      "                    end_col_offset=13,\n",
      "                    test=Constant(lineno=5, col_offset=10, end_lineno=5, end_col_offset=14, value=True, kind=None),\n",
      "                    body=[Break(lineno=6, col_offset=8, end_lineno=6, end_col_offset=13)],\n",
      "                    orelse=[],\n",
      "                ),\n",
      "            ],\n",
      "            decorator_list=[],\n",
      "            returns=None,\n",
      "            type_comment=None,\n",
      "            type_params=[],\n",
      "        ),\n",
      "    ],\n",
      "    type_ignores=[],\n",
      ")\n"
     ]
    }
   ],
   "source": [
    "code = \"\"\"\n",
    "def main():\n",
    "    a =3\n",
    "    b =2\n",
    "    while True:\n",
    "        break\n",
    "\"\"\"\n",
    "tree = ast.parse(code)\n",
    "astpretty.pprint(tree)\n"
   ]
  },
  {
   "cell_type": "code",
   "execution_count": 1,
   "metadata": {},
   "outputs": [],
   "source": [
    "from fuzzingbook.PythonFuzzer import PYTHON_AST_GRAMMAR\n",
    "PYTHON_AST_GRAMMAR"
   ]
  }
 ],
 "metadata": {
  "kernelspec": {
   "display_name": "Python 3",
   "language": "python",
   "name": "python3"
  },
  "language_info": {
   "codemirror_mode": {
    "name": "ipython",
    "version": 3
   },
   "file_extension": ".py",
   "mimetype": "text/x-python",
   "name": "python",
   "nbconvert_exporter": "python",
   "pygments_lexer": "ipython3",
   "version": "3.12.1"
  }
 },
 "nbformat": 4,
 "nbformat_minor": 2
}
